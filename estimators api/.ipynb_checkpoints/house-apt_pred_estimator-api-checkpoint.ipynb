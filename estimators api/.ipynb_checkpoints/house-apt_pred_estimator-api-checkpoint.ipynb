{
 "cells": [
  {
   "cell_type": "markdown",
   "metadata": {},
   "source": [
    "## Simple Example in predicting House and Apartment Price by using Estimator API in TensorFlow"
   ]
  },
  {
   "cell_type": "code",
   "execution_count": 2,
   "metadata": {},
   "outputs": [],
   "source": [
    "import tensorflow as tf\n",
    "import numpy as np\n",
    "import shutil"
   ]
  },
  {
   "cell_type": "code",
   "execution_count": 3,
   "metadata": {},
   "outputs": [],
   "source": [
    "#shutil.rmtree(\"outdir\", ignore_errors=True) #start fresh each time"
   ]
  },
  {
   "cell_type": "code",
   "execution_count": 7,
   "metadata": {},
   "outputs": [
    {
     "name": "stdout",
     "output_type": "stream",
     "text": [
      "INFO:tensorflow:Using default config.\n",
      "INFO:tensorflow:Using config: {'_model_dir': 'outdir', '_tf_random_seed': None, '_save_summary_steps': 100, '_save_checkpoints_steps': None, '_save_checkpoints_secs': 600, '_session_config': allow_soft_placement: true\n",
      "graph_options {\n",
      "  rewrite_options {\n",
      "    meta_optimizer_iterations: ONE\n",
      "  }\n",
      "}\n",
      ", '_keep_checkpoint_max': 5, '_keep_checkpoint_every_n_hours': 10000, '_log_step_count_steps': 100, '_train_distribute': None, '_device_fn': None, '_protocol': None, '_eval_distribute': None, '_experimental_distribute': None, '_service': None, '_cluster_spec': <tensorflow.python.training.server_lib.ClusterSpec object at 0x000001E7707A6F60>, '_task_type': 'worker', '_task_id': 0, '_global_id_in_cluster': 0, '_master': '', '_evaluation_master': '', '_is_chief': True, '_num_ps_replicas': 0, '_num_worker_replicas': 1}\n",
      "INFO:tensorflow:Calling model_fn.\n",
      "INFO:tensorflow:Done calling model_fn.\n",
      "INFO:tensorflow:Create CheckpointSaverHook.\n",
      "INFO:tensorflow:Graph was finalized.\n",
      "INFO:tensorflow:Restoring parameters from outdir\\model.ckpt-230\n",
      "INFO:tensorflow:Running local_init_op.\n",
      "INFO:tensorflow:Done running local_init_op.\n",
      "INFO:tensorflow:Saving checkpoints for 230 into outdir\\model.ckpt.\n",
      "INFO:tensorflow:loss = 141437.28, step = 231\n",
      "INFO:tensorflow:global_step/sec: 481.741\n",
      "INFO:tensorflow:loss = 139665.69, step = 331 (0.209 sec)\n",
      "INFO:tensorflow:global_step/sec: 914.762\n",
      "INFO:tensorflow:loss = 138102.88, step = 431 (0.109 sec)\n",
      "INFO:tensorflow:global_step/sec: 920.967\n",
      "INFO:tensorflow:loss = 136691.66, step = 531 (0.112 sec)\n",
      "INFO:tensorflow:global_step/sec: 867.382\n",
      "INFO:tensorflow:loss = 135396.84, step = 631 (0.113 sec)\n",
      "INFO:tensorflow:global_step/sec: 910.495\n",
      "INFO:tensorflow:loss = 134195.42, step = 731 (0.110 sec)\n",
      "INFO:tensorflow:global_step/sec: 848.359\n",
      "INFO:tensorflow:loss = 133070.75, step = 831 (0.119 sec)\n",
      "INFO:tensorflow:global_step/sec: 882.876\n",
      "INFO:tensorflow:loss = 132010.9, step = 931 (0.112 sec)\n",
      "INFO:tensorflow:global_step/sec: 874.741\n",
      "INFO:tensorflow:loss = 131006.5, step = 1031 (0.115 sec)\n",
      "INFO:tensorflow:global_step/sec: 740.954\n",
      "INFO:tensorflow:loss = 130050.52, step = 1131 (0.135 sec)\n",
      "INFO:tensorflow:Saving checkpoints for 1230 into outdir\\model.ckpt.\n",
      "INFO:tensorflow:Loss for final step: 129145.94.\n"
     ]
    },
    {
     "data": {
      "text/plain": [
       "<tensorflow.python.estimator.canned.linear.LinearRegressor at 0x1e770ac7d68>"
      ]
     },
     "execution_count": 7,
     "metadata": {},
     "output_type": "execute_result"
    }
   ],
   "source": [
    "#Our dataset\n",
    "def train_input_fn():\n",
    "    features = {\"sq_footage\": [1000, 2000, 3000, 1000, 2000, 3000],\n",
    "                \"type\": [\"house\", \"house\", \"house\", \"apt\", \"apt\", \"apt\"]}\n",
    "    labels = [500, 1000, 1500, 700, 1300, 1900] #in thousands $\n",
    "    \n",
    "    return features, labels\n",
    "\n",
    "featcols = [\n",
    "    tf.feature_column.numeric_column(\"sq_footage\"),\n",
    "    tf.feature_column.categorical_column_with_vocabulary_list(\"type\", [\"house\", \"apt\"])\n",
    "]\n",
    "\n",
    "#Train the model, and specify the folder for checkpoint\n",
    "#Checkpoint is \n",
    "model = tf.estimator.LinearRegressor(featcols, './model_trained')\n",
    "model.train(train_input_fn, steps=1000)"
   ]
  },
  {
   "cell_type": "code",
   "execution_count": 11,
   "metadata": {},
   "outputs": [
    {
     "name": "stdout",
     "output_type": "stream",
     "text": [
      "WARNING:tensorflow:Input graph does not use tf.data.Dataset or contain a QueueRunner. That means predict yields forever. This is probably a mistake.\n",
      "INFO:tensorflow:Calling model_fn.\n",
      "INFO:tensorflow:Done calling model_fn.\n",
      "INFO:tensorflow:Graph was finalized.\n",
      "INFO:tensorflow:Restoring parameters from outdir\\model.ckpt-1230\n",
      "INFO:tensorflow:Running local_init_op.\n",
      "INFO:tensorflow:Done running local_init_op.\n",
      "{'predictions': array([847.4554], dtype=float32)}\n",
      "{'predictions': array([868.0118], dtype=float32)}\n",
      "{'predictions': array([1418.179], dtype=float32)}\n",
      "{'predictions': array([1438.7354], dtype=float32)}\n"
     ]
    }
   ],
   "source": [
    "#define predict function, to pass it to the model\n",
    "def predict_input_fn():\n",
    "    features = {\"sq_footage\": [1500, 1500, 2500, 2500],\n",
    "               \"type\": [\"house\", \"apt\", \"house\", \"apt\"]}\n",
    "    return features\n",
    "\n",
    "predictions = model.predict(predict_input_fn)\n",
    "\n",
    "print(next(predictions))\n",
    "print(next(predictions))\n",
    "print(next(predictions))\n",
    "print(next(predictions))"
   ]
  },
  {
   "cell_type": "code",
   "execution_count": null,
   "metadata": {},
   "outputs": [],
   "source": []
  }
 ],
 "metadata": {
  "kernelspec": {
   "display_name": "Python 3",
   "language": "python",
   "name": "python3"
  },
  "language_info": {
   "codemirror_mode": {
    "name": "ipython",
    "version": 3
   },
   "file_extension": ".py",
   "mimetype": "text/x-python",
   "name": "python",
   "nbconvert_exporter": "python",
   "pygments_lexer": "ipython3",
   "version": "3.6.8"
  }
 },
 "nbformat": 4,
 "nbformat_minor": 2
}
