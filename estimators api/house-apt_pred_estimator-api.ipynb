{
 "cells": [
  {
   "cell_type": "markdown",
   "metadata": {},
   "source": [
    "## Simple Example in predicting House and Apartment Price by using Estimator API in TensorFlow"
   ]
  },
  {
   "cell_type": "code",
   "execution_count": 1,
   "metadata": {},
   "outputs": [],
   "source": [
    "import tensorflow as tf\n",
    "import numpy as np\n",
    "import shutil"
   ]
  },
  {
   "cell_type": "code",
   "execution_count": 2,
   "metadata": {},
   "outputs": [],
   "source": [
    "#shutil.rmtree(\"outdir\", ignore_errors=True) #start fresh each time"
   ]
  },
  {
   "cell_type": "code",
   "execution_count": 3,
   "metadata": {},
   "outputs": [
    {
     "name": "stdout",
     "output_type": "stream",
     "text": [
      "INFO:tensorflow:Using default config.\n",
      "INFO:tensorflow:Using config: {'_model_dir': './model_trained', '_tf_random_seed': None, '_save_summary_steps': 100, '_save_checkpoints_steps': None, '_save_checkpoints_secs': 600, '_session_config': allow_soft_placement: true\n",
      "graph_options {\n",
      "  rewrite_options {\n",
      "    meta_optimizer_iterations: ONE\n",
      "  }\n",
      "}\n",
      ", '_keep_checkpoint_max': 5, '_keep_checkpoint_every_n_hours': 10000, '_log_step_count_steps': 100, '_train_distribute': None, '_device_fn': None, '_protocol': None, '_eval_distribute': None, '_experimental_distribute': None, '_service': None, '_cluster_spec': <tensorflow.python.training.server_lib.ClusterSpec object at 0x000001C3495A6EF0>, '_task_type': 'worker', '_task_id': 0, '_global_id_in_cluster': 0, '_master': '', '_evaluation_master': '', '_is_chief': True, '_num_ps_replicas': 0, '_num_worker_replicas': 1}\n",
      "INFO:tensorflow:Calling model_fn.\n",
      "INFO:tensorflow:Done calling model_fn.\n",
      "INFO:tensorflow:Create CheckpointSaverHook.\n",
      "INFO:tensorflow:Graph was finalized.\n",
      "INFO:tensorflow:Running local_init_op.\n",
      "INFO:tensorflow:Done running local_init_op.\n",
      "INFO:tensorflow:Saving checkpoints for 0 into ./model_trained\\model.ckpt.\n",
      "INFO:tensorflow:loss = 9290000.0, step = 1\n",
      "INFO:tensorflow:global_step/sec: 394.207\n",
      "INFO:tensorflow:loss = 144242.62, step = 101 (0.256 sec)\n",
      "INFO:tensorflow:global_step/sec: 804.309\n",
      "INFO:tensorflow:loss = 142023.2, step = 201 (0.125 sec)\n",
      "INFO:tensorflow:global_step/sec: 738.773\n",
      "INFO:tensorflow:loss = 140171.67, step = 301 (0.134 sec)\n",
      "INFO:tensorflow:global_step/sec: 906.675\n",
      "INFO:tensorflow:loss = 138553.88, step = 401 (0.111 sec)\n",
      "INFO:tensorflow:global_step/sec: 949.842\n",
      "INFO:tensorflow:loss = 137101.47, step = 501 (0.104 sec)\n",
      "INFO:tensorflow:global_step/sec: 932.103\n",
      "INFO:tensorflow:loss = 135774.66, step = 601 (0.107 sec)\n",
      "INFO:tensorflow:global_step/sec: 791.541\n",
      "INFO:tensorflow:loss = 134547.11, step = 701 (0.126 sec)\n",
      "INFO:tensorflow:global_step/sec: 600.811\n",
      "INFO:tensorflow:loss = 133400.81, step = 801 (0.166 sec)\n",
      "INFO:tensorflow:global_step/sec: 579.85\n",
      "INFO:tensorflow:loss = 132322.64, step = 901 (0.172 sec)\n",
      "INFO:tensorflow:Saving checkpoints for 1000 into ./model_trained\\model.ckpt.\n",
      "INFO:tensorflow:Loss for final step: 131312.33.\n"
     ]
    },
    {
     "data": {
      "text/plain": [
       "<tensorflow.python.estimator.canned.linear.LinearRegressor at 0x1c3495a6cc0>"
      ]
     },
     "execution_count": 3,
     "metadata": {},
     "output_type": "execute_result"
    }
   ],
   "source": [
    "#Our dataset\n",
    "def train_input_fn():\n",
    "    features = {\"sq_footage\": [1000, 2000, 3000, 1000, 2000, 3000],\n",
    "                \"type\": [\"house\", \"house\", \"house\", \"apt\", \"apt\", \"apt\"]}\n",
    "    labels = [500, 1000, 1500, 700, 1300, 1900] #in thousands $\n",
    "    \n",
    "    return features, labels\n",
    "\n",
    "featcols = [\n",
    "    tf.feature_column.numeric_column(\"sq_footage\"),\n",
    "    tf.feature_column.categorical_column_with_vocabulary_list(\"type\", [\"house\", \"apt\"])\n",
    "]\n",
    "\n",
    "#Train the model, and specify the folder for checkpoint\n",
    "#Checkpoint is a way to to save our train model\n",
    "model = tf.estimator.LinearRegressor(featcols, './model_trained')\n",
    "model.train(train_input_fn, steps=1000)"
   ]
  },
  {
   "cell_type": "code",
   "execution_count": 4,
   "metadata": {},
   "outputs": [
    {
     "name": "stdout",
     "output_type": "stream",
     "text": [
      "INFO:tensorflow:Using default config.\n",
      "INFO:tensorflow:Using config: {'_model_dir': './model_trained', '_tf_random_seed': None, '_save_summary_steps': 100, '_save_checkpoints_steps': None, '_save_checkpoints_secs': 600, '_session_config': allow_soft_placement: true\n",
      "graph_options {\n",
      "  rewrite_options {\n",
      "    meta_optimizer_iterations: ONE\n",
      "  }\n",
      "}\n",
      ", '_keep_checkpoint_max': 5, '_keep_checkpoint_every_n_hours': 10000, '_log_step_count_steps': 100, '_train_distribute': None, '_device_fn': None, '_protocol': None, '_eval_distribute': None, '_experimental_distribute': None, '_service': None, '_cluster_spec': <tensorflow.python.training.server_lib.ClusterSpec object at 0x000001C34FF0ADD8>, '_task_type': 'worker', '_task_id': 0, '_global_id_in_cluster': 0, '_master': '', '_evaluation_master': '', '_is_chief': True, '_num_ps_replicas': 0, '_num_worker_replicas': 1}\n",
      "WARNING:tensorflow:Input graph does not use tf.data.Dataset or contain a QueueRunner. That means predict yields forever. This is probably a mistake.\n",
      "INFO:tensorflow:Calling model_fn.\n",
      "INFO:tensorflow:Done calling model_fn.\n",
      "INFO:tensorflow:Graph was finalized.\n",
      "INFO:tensorflow:Restoring parameters from ./model_trained\\model.ckpt-1000\n",
      "INFO:tensorflow:Running local_init_op.\n",
      "INFO:tensorflow:Done running local_init_op.\n",
      "{'predictions': array([848.66895], dtype=float32)}\n",
      "{'predictions': array([866.67145], dtype=float32)}\n",
      "{'predictions': array([1419.4681], dtype=float32)}\n",
      "{'predictions': array([1437.4707], dtype=float32)}\n"
     ]
    }
   ],
   "source": [
    "#define predict function, to pass it to the model\n",
    "def predict_input_fn():\n",
    "    features = {\"sq_footage\": [1500, 1500, 2500, 2500],\n",
    "               \"type\": [\"house\", \"apt\", \"house\", \"apt\"]}\n",
    "    return features\n",
    "\n",
    "trained_model = tf.estimator.LinearRegressor(featcols, './model_trained')\n",
    "predictions = trained_model.predict(predict_input_fn)\n",
    "\n",
    "print(next(predictions))\n",
    "print(next(predictions))\n",
    "print(next(predictions))\n",
    "print(next(predictions))"
   ]
  },
  {
   "cell_type": "code",
   "execution_count": null,
   "metadata": {},
   "outputs": [],
   "source": []
  }
 ],
 "metadata": {
  "kernelspec": {
   "display_name": "Python 3",
   "language": "python",
   "name": "python3"
  },
  "language_info": {
   "codemirror_mode": {
    "name": "ipython",
    "version": 3
   },
   "file_extension": ".py",
   "mimetype": "text/x-python",
   "name": "python",
   "nbconvert_exporter": "python",
   "pygments_lexer": "ipython3",
   "version": "3.6.8"
  }
 },
 "nbformat": 4,
 "nbformat_minor": 2
}
